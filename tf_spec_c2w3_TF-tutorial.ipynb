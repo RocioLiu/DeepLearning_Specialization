{
 "cells": [
  {
   "cell_type": "code",
   "execution_count": 4,
   "metadata": {},
   "outputs": [],
   "source": [
    "import numpy as np\n",
    "import tensorflow as tf"
   ]
  },
  {
   "cell_type": "code",
   "execution_count": 32,
   "metadata": {},
   "outputs": [
    {
     "name": "stdout",
     "output_type": "stream",
     "text": [
      "0.0\n"
     ]
    }
   ],
   "source": [
    "# we need a way to get these values feed into teh variable x\n",
    "coefficients = np.array([[1.], [-20.], [100.]]) # the values that we're goning to feed into x (placeholder)\n",
    "\n",
    "# \"w\" is the parameter which i try to optimize, so we're going to declaer that as a variable\n",
    "w = tf.Variable(0, dtype=tf.float32) # tf.Variable: to define a parameter\n",
    "# tf.placeholder: is a variable that we provide the values for later.\n",
    "x = tf.placeholder(tf.float32, [3,1]) # make it 3 x 1 array\n",
    "#cost = tf.add(tf.add(w**2, tf.multiply(-10.,w)), 25)\n",
    "# above is equal to cost = w**2 -10*w +25\n",
    "cost = x[0][0]*w**2 + x[1][0]*w + x[2][0]\n",
    "# Define \"train\" to be learing algorithm\n",
    "train = tf.train.GradientDescentOptimizer(0.01).minimize(cost) # The goal is to minimize the cost\n",
    "\n",
    "#--------------------------------------\n",
    "init = tf.global_variables_initializer()\n",
    "session = tf.Session() # it start a tensorflow session\n",
    "# we can also substitute \"with tf.Session() as session:\" for above code\n",
    "session.run(init) # initialize global variables\n",
    "print(session.run(w)) # evaluate the variables\n",
    "#--------------------------------------"
   ]
  },
  {
   "cell_type": "code",
   "execution_count": 29,
   "metadata": {},
   "outputs": [
    {
     "data": {
      "text/plain": [
       "<tf.Tensor 'Placeholder_1:0' shape=(3, 1) dtype=float32>"
      ]
     },
     "execution_count": 29,
     "metadata": {},
     "output_type": "execute_result"
    }
   ],
   "source": [
    "x"
   ]
  },
  {
   "cell_type": "code",
   "execution_count": 33,
   "metadata": {},
   "outputs": [
    {
     "name": "stdout",
     "output_type": "stream",
     "text": [
      "0.19999999\n"
     ]
    }
   ],
   "source": [
    "session.run(train, feed_dict={x:coefficients}) # run one step of GradientDescent\n",
    "print(session.run(w)) # evaluate the value of w after one step of GradientDescent"
   ]
  },
  {
   "cell_type": "code",
   "execution_count": 34,
   "metadata": {},
   "outputs": [
    {
     "name": "stdout",
     "output_type": "stream",
     "text": [
      "9.999977\n"
     ]
    }
   ],
   "source": [
    "for i in range(1000):\n",
    "    session.run(train, feed_dict={x:coefficients}) # feed the coefficients into x\n",
    "print(session.run(w))"
   ]
  },
  {
   "cell_type": "code",
   "execution_count": null,
   "metadata": {},
   "outputs": [],
   "source": []
  }
 ],
 "metadata": {
  "kernelspec": {
   "display_name": "Python 3",
   "language": "python",
   "name": "python3"
  },
  "language_info": {
   "codemirror_mode": {
    "name": "ipython",
    "version": 3
   },
   "file_extension": ".py",
   "mimetype": "text/x-python",
   "name": "python",
   "nbconvert_exporter": "python",
   "pygments_lexer": "ipython3",
   "version": "3.7.2"
  }
 },
 "nbformat": 4,
 "nbformat_minor": 2
}
